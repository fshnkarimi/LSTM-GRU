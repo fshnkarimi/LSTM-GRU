{
  "nbformat": 4,
  "nbformat_minor": 0,
  "metadata": {
    "colab": {
      "name": "DL_HW3_Q6.ipynb",
      "provenance": [],
      "collapsed_sections": []
    },
    "kernelspec": {
      "name": "python3",
      "display_name": "Python 3"
    },
    "language_info": {
      "name": "python"
    },
    "widgets": {
      "application/vnd.jupyter.widget-state+json": {
        "6677f8212de149b7ace3ad3ff36ddb24": {
          "model_module": "@jupyter-widgets/controls",
          "model_name": "HBoxModel",
          "state": {
            "_view_name": "HBoxView",
            "_dom_classes": [],
            "_model_name": "HBoxModel",
            "_view_module": "@jupyter-widgets/controls",
            "_model_module_version": "1.5.0",
            "_view_count": null,
            "_view_module_version": "1.5.0",
            "box_style": "",
            "layout": "IPY_MODEL_d5ce1faf98f24e0997ed113f5604a2bf",
            "_model_module": "@jupyter-widgets/controls",
            "children": [
              "IPY_MODEL_3943566f9cf44f7a9396bf7dc1a8802b",
              "IPY_MODEL_9a301e7ab2cc4f0690743807c73b1bdf"
            ]
          }
        },
        "d5ce1faf98f24e0997ed113f5604a2bf": {
          "model_module": "@jupyter-widgets/base",
          "model_name": "LayoutModel",
          "state": {
            "_view_name": "LayoutView",
            "grid_template_rows": null,
            "right": null,
            "justify_content": null,
            "_view_module": "@jupyter-widgets/base",
            "overflow": null,
            "_model_module_version": "1.2.0",
            "_view_count": null,
            "flex_flow": null,
            "width": null,
            "min_width": null,
            "border": null,
            "align_items": null,
            "bottom": null,
            "_model_module": "@jupyter-widgets/base",
            "top": null,
            "grid_column": null,
            "overflow_y": null,
            "overflow_x": null,
            "grid_auto_flow": null,
            "grid_area": null,
            "grid_template_columns": null,
            "flex": null,
            "_model_name": "LayoutModel",
            "justify_items": null,
            "grid_row": null,
            "max_height": null,
            "align_content": null,
            "visibility": null,
            "align_self": null,
            "height": null,
            "min_height": null,
            "padding": null,
            "grid_auto_rows": null,
            "grid_gap": null,
            "max_width": null,
            "order": null,
            "_view_module_version": "1.2.0",
            "grid_template_areas": null,
            "object_position": null,
            "object_fit": null,
            "grid_auto_columns": null,
            "margin": null,
            "display": null,
            "left": null
          }
        },
        "3943566f9cf44f7a9396bf7dc1a8802b": {
          "model_module": "@jupyter-widgets/controls",
          "model_name": "FloatProgressModel",
          "state": {
            "_view_name": "ProgressView",
            "style": "IPY_MODEL_842d3fa5929f4f88b1c557e797c65eff",
            "_dom_classes": [],
            "description": "100%",
            "_model_name": "FloatProgressModel",
            "bar_style": "success",
            "max": 12,
            "_view_module": "@jupyter-widgets/controls",
            "_model_module_version": "1.5.0",
            "value": 12,
            "_view_count": null,
            "_view_module_version": "1.5.0",
            "orientation": "horizontal",
            "min": 0,
            "description_tooltip": null,
            "_model_module": "@jupyter-widgets/controls",
            "layout": "IPY_MODEL_fbae8079dca84811ad61ff93e84397bc"
          }
        },
        "9a301e7ab2cc4f0690743807c73b1bdf": {
          "model_module": "@jupyter-widgets/controls",
          "model_name": "HTMLModel",
          "state": {
            "_view_name": "HTMLView",
            "style": "IPY_MODEL_9da03ee883b340299f5503053591e31c",
            "_dom_classes": [],
            "description": "",
            "_model_name": "HTMLModel",
            "placeholder": "​",
            "_view_module": "@jupyter-widgets/controls",
            "_model_module_version": "1.5.0",
            "value": " 12/12 [02:36&lt;00:00, 13.03s/it]",
            "_view_count": null,
            "_view_module_version": "1.5.0",
            "description_tooltip": null,
            "_model_module": "@jupyter-widgets/controls",
            "layout": "IPY_MODEL_79d3c93516f449d0a1b96dc1ba4b52a9"
          }
        },
        "842d3fa5929f4f88b1c557e797c65eff": {
          "model_module": "@jupyter-widgets/controls",
          "model_name": "ProgressStyleModel",
          "state": {
            "_view_name": "StyleView",
            "_model_name": "ProgressStyleModel",
            "description_width": "initial",
            "_view_module": "@jupyter-widgets/base",
            "_model_module_version": "1.5.0",
            "_view_count": null,
            "_view_module_version": "1.2.0",
            "bar_color": null,
            "_model_module": "@jupyter-widgets/controls"
          }
        },
        "fbae8079dca84811ad61ff93e84397bc": {
          "model_module": "@jupyter-widgets/base",
          "model_name": "LayoutModel",
          "state": {
            "_view_name": "LayoutView",
            "grid_template_rows": null,
            "right": null,
            "justify_content": null,
            "_view_module": "@jupyter-widgets/base",
            "overflow": null,
            "_model_module_version": "1.2.0",
            "_view_count": null,
            "flex_flow": null,
            "width": null,
            "min_width": null,
            "border": null,
            "align_items": null,
            "bottom": null,
            "_model_module": "@jupyter-widgets/base",
            "top": null,
            "grid_column": null,
            "overflow_y": null,
            "overflow_x": null,
            "grid_auto_flow": null,
            "grid_area": null,
            "grid_template_columns": null,
            "flex": null,
            "_model_name": "LayoutModel",
            "justify_items": null,
            "grid_row": null,
            "max_height": null,
            "align_content": null,
            "visibility": null,
            "align_self": null,
            "height": null,
            "min_height": null,
            "padding": null,
            "grid_auto_rows": null,
            "grid_gap": null,
            "max_width": null,
            "order": null,
            "_view_module_version": "1.2.0",
            "grid_template_areas": null,
            "object_position": null,
            "object_fit": null,
            "grid_auto_columns": null,
            "margin": null,
            "display": null,
            "left": null
          }
        },
        "9da03ee883b340299f5503053591e31c": {
          "model_module": "@jupyter-widgets/controls",
          "model_name": "DescriptionStyleModel",
          "state": {
            "_view_name": "StyleView",
            "_model_name": "DescriptionStyleModel",
            "description_width": "",
            "_view_module": "@jupyter-widgets/base",
            "_model_module_version": "1.5.0",
            "_view_count": null,
            "_view_module_version": "1.2.0",
            "_model_module": "@jupyter-widgets/controls"
          }
        },
        "79d3c93516f449d0a1b96dc1ba4b52a9": {
          "model_module": "@jupyter-widgets/base",
          "model_name": "LayoutModel",
          "state": {
            "_view_name": "LayoutView",
            "grid_template_rows": null,
            "right": null,
            "justify_content": null,
            "_view_module": "@jupyter-widgets/base",
            "overflow": null,
            "_model_module_version": "1.2.0",
            "_view_count": null,
            "flex_flow": null,
            "width": null,
            "min_width": null,
            "border": null,
            "align_items": null,
            "bottom": null,
            "_model_module": "@jupyter-widgets/base",
            "top": null,
            "grid_column": null,
            "overflow_y": null,
            "overflow_x": null,
            "grid_auto_flow": null,
            "grid_area": null,
            "grid_template_columns": null,
            "flex": null,
            "_model_name": "LayoutModel",
            "justify_items": null,
            "grid_row": null,
            "max_height": null,
            "align_content": null,
            "visibility": null,
            "align_self": null,
            "height": null,
            "min_height": null,
            "padding": null,
            "grid_auto_rows": null,
            "grid_gap": null,
            "max_width": null,
            "order": null,
            "_view_module_version": "1.2.0",
            "grid_template_areas": null,
            "object_position": null,
            "object_fit": null,
            "grid_auto_columns": null,
            "margin": null,
            "display": null,
            "left": null
          }
        }
      }
    }
  },
  "cells": [
    {
      "cell_type": "code",
      "metadata": {
        "id": "krWoJgu8gyO-"
      },
      "source": [
        "\"\"\"\n",
        "    Afshin Karimi\n",
        "    Std No: 99210431\n",
        "    HW3 - Question 6\n",
        "\"\"\"\n",
        "import numpy as np\n",
        "import pandas as pd\n",
        "import matplotlib.pyplot as plt\n",
        "import torch\n",
        "import torch.nn as nn\n",
        "from torch.utils.data import TensorDataset, DataLoader\n",
        "from tqdm import notebook\n",
        "from sklearn.preprocessing import MinMaxScaler\n",
        "import os"
      ],
      "execution_count": null,
      "outputs": []
    },
    {
      "cell_type": "code",
      "metadata": {
        "colab": {
          "base_uri": "https://localhost:8080/",
          "height": 67,
          "referenced_widgets": [
            "6677f8212de149b7ace3ad3ff36ddb24",
            "d5ce1faf98f24e0997ed113f5604a2bf",
            "3943566f9cf44f7a9396bf7dc1a8802b",
            "9a301e7ab2cc4f0690743807c73b1bdf",
            "842d3fa5929f4f88b1c557e797c65eff",
            "fbae8079dca84811ad61ff93e84397bc",
            "9da03ee883b340299f5503053591e31c",
            "79d3c93516f449d0a1b96dc1ba4b52a9"
          ]
        },
        "id": "pwqvpsU1h0AH",
        "outputId": "dd60bb5c-99cd-429e-8385-1a390db5ea36"
      },
      "source": [
        "CUDA = torch.cuda.is_available()\n",
        "\n",
        "device = torch.device(\"cuda\") if CUDA else torch.device(\"cpu\")\n",
        "\n",
        "datasets = \"/content/Datasets/\"\n",
        "\n",
        "label_scalers, train_x, test_x, test_y = {}, [], {}, {}\n",
        "\n",
        "\n",
        "for file in notebook.tqdm(os.listdir(datasets)): \n",
        "    # print(file)\n",
        "    df = pd.read_csv(datasets + file, parse_dates=[0])\n",
        "    df['hour'] = df.apply(lambda x: x['Datetime'].hour,axis=1)\n",
        "    df['dayofweek'] = df.apply(lambda x: x['Datetime'].dayofweek,axis=1)\n",
        "    df['month'] = df.apply(lambda x: x['Datetime'].month,axis=1)\n",
        "    df['dayofyear'] = df.apply(lambda x: x['Datetime'].dayofyear,axis=1)\n",
        "    df = df.sort_values(\"Datetime\").drop(\"Datetime\",axis=1)\n",
        "    \n",
        "    # Scaling \n",
        "    sc = MinMaxScaler()\n",
        "    label_sc = MinMaxScaler()\n",
        "    data = sc.fit_transform(df.values)\n",
        "    label_sc.fit(df.iloc[:,0].values.reshape(-1,1))\n",
        "    label_scalers[file] = label_sc\n",
        "    \n",
        "    # lookback period\n",
        "    lookback = 90\n",
        "    inputs = np.zeros((len(data)-lookback,lookback,df.shape[1]))\n",
        "    labels = np.zeros(len(data)-lookback)\n",
        "    \n",
        "    for i in range(lookback, len(data)):\n",
        "        inputs[i-lookback] = data[i-lookback:i]\n",
        "        labels[i-lookback] = data[i,0]\n",
        "    inputs = inputs.reshape(-1,lookback,df.shape[1])\n",
        "    labels = labels.reshape(-1,1)\n",
        "    \n",
        "    # Split data into train/test portions 90:10\n",
        "    test_portion = int(0.1*len(inputs))\n",
        "    if len(train_x) == 0:\n",
        "        train_x = inputs[:-test_portion]\n",
        "        train_y = labels[:-test_portion]\n",
        "    else:\n",
        "        train_x = np.concatenate((train_x,inputs[:-test_portion]))\n",
        "        train_y = np.concatenate((train_y,labels[:-test_portion]))\n",
        "    test_x[file] = (inputs[-test_portion:])\n",
        "    test_y[file] = (labels[-test_portion:])"
      ],
      "execution_count": null,
      "outputs": [
        {
          "output_type": "display_data",
          "data": {
            "application/vnd.jupyter.widget-view+json": {
              "model_id": "6677f8212de149b7ace3ad3ff36ddb24",
              "version_minor": 0,
              "version_major": 2
            },
            "text/plain": [
              "HBox(children=(FloatProgress(value=0.0, max=12.0), HTML(value='')))"
            ]
          },
          "metadata": {
            "tags": []
          }
        },
        {
          "output_type": "stream",
          "text": [
            "\n"
          ],
          "name": "stdout"
        }
      ]
    },
    {
      "cell_type": "code",
      "metadata": {
        "id": "v5SenSlrjfVW"
      },
      "source": [
        "batch_size = 1024\n",
        "\n",
        "train_data = TensorDataset(torch.from_numpy(train_x), torch.from_numpy(train_y))\n",
        "train_loader = DataLoader(train_data, shuffle=True, batch_size=batch_size, drop_last=True)"
      ],
      "execution_count": null,
      "outputs": []
    },
    {
      "cell_type": "code",
      "metadata": {
        "id": "dQeL4uZ8qh5X"
      },
      "source": [
        "class GRU_Net(nn.Module):\n",
        "    def __init__(self, input_dim, hidden_dim, output_dim, n_layers, drop_prob=0.2):\n",
        "        super(GRU_Net, self).__init__()\n",
        "        self.hidden_dim = hidden_dim\n",
        "        self.n_layers = n_layers\n",
        "        \n",
        "        self.gru = nn.GRU(input_dim, hidden_dim, n_layers, batch_first=True, dropout=drop_prob)\n",
        "        self.fc = nn.Linear(hidden_dim, output_dim)\n",
        "        self.relu = nn.ReLU()\n",
        "        \n",
        "    def forward(self, x, h):\n",
        "        out, h = self.gru(x, h)\n",
        "        out = self.fc(self.relu(out[:,-1]))\n",
        "        return out, h\n",
        "    \n",
        "    def init_hidden(self, batch_size):\n",
        "        weight = next(self.parameters()).data\n",
        "        hidden = weight.new(self.n_layers, batch_size, self.hidden_dim).zero_().to(device)\n",
        "        return hidden"
      ],
      "execution_count": null,
      "outputs": []
    },
    {
      "cell_type": "code",
      "metadata": {
        "id": "WrdsRAnvnvgY"
      },
      "source": [
        "class LSTM_Net(nn.Module):\n",
        "    def __init__(self, input_dim, hidden_dim, output_dim, n_layers, drop_prob=0.2):\n",
        "        super(LSTM_Net, self).__init__()\n",
        "        self.hidden_dim = hidden_dim\n",
        "        self.n_layers = n_layers\n",
        "        \n",
        "        self.lstm = nn.LSTM(input_dim, hidden_dim, n_layers, batch_first=True, dropout=drop_prob)\n",
        "        self.fc = nn.Linear(hidden_dim, output_dim)\n",
        "        self.relu = nn.ReLU()\n",
        "        \n",
        "    def forward(self, x, h):\n",
        "        out, h = self.lstm(x, h)\n",
        "        out = self.fc(self.relu(out[:,-1]))\n",
        "        return out, h\n",
        "    \n",
        "    def init_hidden(self, batch_size):\n",
        "        weight = next(self.parameters()).data\n",
        "        hidden = (weight.new(self.n_layers, batch_size, self.hidden_dim).zero_().to(device),\n",
        "                  weight.new(self.n_layers, batch_size, self.hidden_dim).zero_().to(device))\n",
        "        return hidden"
      ],
      "execution_count": null,
      "outputs": []
    },
    {
      "cell_type": "code",
      "metadata": {
        "id": "xJtx8Y-Un0jA"
      },
      "source": [
        "def train(train_loader, learn_rate, hidden_dim, EPOCHS, model_type):\n",
        "    \n",
        "    input_dim = next(iter(train_loader))[0].shape[2]\n",
        "    output_dim = 1\n",
        "    n_layers = 2\n",
        "    if model_type == \"GRU\":\n",
        "        model = GRU_Net(input_dim, hidden_dim, output_dim, n_layers)\n",
        "    else:\n",
        "        model = LSTM_Net(input_dim, hidden_dim, output_dim, n_layers)\n",
        "    model.to(device)\n",
        "    \n",
        "    # Defining loss function and optimizer\n",
        "    criterion = nn.MSELoss()\n",
        "    optimizer = torch.optim.Adam(model.parameters(), lr=learn_rate)\n",
        "    \n",
        "    model.train()\n",
        "    print(f\"Training of {model_type} model\")\n",
        "    epoch_times = []\n",
        "    # Start training loop\n",
        "    for epoch in range(1,EPOCHS+1):\n",
        "        h = model.init_hidden(batch_size)\n",
        "        avg_loss = 0.\n",
        "        counter = 0\n",
        "        for x, label in train_loader:\n",
        "            counter += 1\n",
        "            if model_type == \"GRU\":\n",
        "                h = h.data\n",
        "            else:\n",
        "                h = tuple([e.data for e in h])\n",
        "            model.zero_grad()\n",
        "            \n",
        "            out, h = model(x.to(device).float(), h)\n",
        "            loss = criterion(out, label.to(device).float())\n",
        "            loss.backward()\n",
        "            optimizer.step()\n",
        "            avg_loss += loss.item()\n",
        "            if counter%200 == 0:\n",
        "                print(f\"Epoch {epoch}---Step: {counter}/{len(train_loader)}--- Average Loss for Epoch: {avg_loss/counter}\")\n",
        "        print(f\"Epoch {epoch}/{EPOCHS}, Total Loss: {avg_loss/len(train_loader)}\")\n",
        "    return model\n",
        "\n",
        "def evaluate(model, test_x, test_y, label_scalers):\n",
        "    model.eval()\n",
        "    outputs = []\n",
        "    targets = []\n",
        "    for i in test_x.keys():\n",
        "        inp = torch.from_numpy(np.array(test_x[i]))\n",
        "        labs = torch.from_numpy(np.array(test_y[i]))\n",
        "        h = model.init_hidden(inp.shape[0])\n",
        "        out, h = model(inp.to(device).float(), h)\n",
        "        outputs.append(label_scalers[i].inverse_transform(out.cpu().detach().numpy()).reshape(-1))\n",
        "        targets.append(label_scalers[i].inverse_transform(labs.numpy()).reshape(-1))\n",
        "    sMAPE = 0\n",
        "    for i in range(len(outputs)):\n",
        "        sMAPE += np.mean(abs(outputs[i]-targets[i])/(targets[i]+outputs[i])/2)/len(outputs)\n",
        "    print(f\"sMAPE: {sMAPE*100}%\")\n",
        "    return outputs, targets, sMAPE"
      ],
      "execution_count": null,
      "outputs": []
    },
    {
      "cell_type": "code",
      "metadata": {
        "id": "KQmRDUqywpwZ"
      },
      "source": [
        "import warnings\n",
        "warnings.filterwarnings(\"ignore\")"
      ],
      "execution_count": null,
      "outputs": []
    },
    {
      "cell_type": "code",
      "metadata": {
        "colab": {
          "base_uri": "https://localhost:8080/"
        },
        "id": "ZsYOVn55n7RX",
        "outputId": "238710d1-33c7-4258-881a-8ab18d3053b5"
      },
      "source": [
        "EPOCH = 5\n",
        "HIDDEN_DIM = 256\n",
        "lr = 0.001\n",
        "gru_model = train(train_loader, lr, HIDDEN_DIM, EPOCH, model_type=\"GRU\")"
      ],
      "execution_count": null,
      "outputs": [
        {
          "output_type": "stream",
          "text": [
            "Training of GRU model\n",
            "Epoch 1---Step: 200/957--- Average Loss for Epoch: 0.005976225932827219\n",
            "Epoch 1---Step: 400/957--- Average Loss for Epoch: 0.0033440310122387017\n",
            "Epoch 1---Step: 600/957--- Average Loss for Epoch: 0.0023793668135476762\n",
            "Epoch 1---Step: 800/957--- Average Loss for Epoch: 0.001867244483091781\n",
            "Epoch 1/5, Total Loss: 0.0016037222776085608\n",
            "Epoch 2---Step: 200/957--- Average Loss for Epoch: 0.00023916856189316605\n",
            "Epoch 2---Step: 400/957--- Average Loss for Epoch: 0.0002287233066454064\n",
            "Epoch 2---Step: 600/957--- Average Loss for Epoch: 0.00022113338425697293\n",
            "Epoch 2---Step: 800/957--- Average Loss for Epoch: 0.000214178673850256\n",
            "Epoch 2/5, Total Loss: 0.00020754416950974933\n",
            "Epoch 3---Step: 200/957--- Average Loss for Epoch: 0.0001698205182037782\n",
            "Epoch 3---Step: 400/957--- Average Loss for Epoch: 0.00016011264957342065\n",
            "Epoch 3---Step: 600/957--- Average Loss for Epoch: 0.00015565061798649064\n",
            "Epoch 3---Step: 800/957--- Average Loss for Epoch: 0.00015345253521445557\n",
            "Epoch 3/5, Total Loss: 0.00015071008761088358\n",
            "Epoch 4---Step: 200/957--- Average Loss for Epoch: 0.00013835954774549464\n",
            "Epoch 4---Step: 400/957--- Average Loss for Epoch: 0.00013300956261446116\n",
            "Epoch 4---Step: 600/957--- Average Loss for Epoch: 0.00013237383416708326\n",
            "Epoch 4---Step: 800/957--- Average Loss for Epoch: 0.00013131704976331092\n",
            "Epoch 4/5, Total Loss: 0.0001278920131907633\n",
            "Epoch 5---Step: 200/957--- Average Loss for Epoch: 0.00012232581048010616\n",
            "Epoch 5---Step: 400/957--- Average Loss for Epoch: 0.00011929720998523408\n",
            "Epoch 5---Step: 600/957--- Average Loss for Epoch: 0.0001166377920890227\n",
            "Epoch 5---Step: 800/957--- Average Loss for Epoch: 0.00011538285091774015\n",
            "Epoch 5/5, Total Loss: 0.00011468568416322068\n"
          ],
          "name": "stdout"
        }
      ]
    },
    {
      "cell_type": "code",
      "metadata": {
        "colab": {
          "base_uri": "https://localhost:8080/"
        },
        "id": "snah2yRxoFGd",
        "outputId": "4659c4d9-9403-454d-c093-84de2f6c7bfa"
      },
      "source": [
        "lstm_model = train(train_loader, lr, HIDDEN_DIM, EPOCH, model_type=\"LSTM\")"
      ],
      "execution_count": null,
      "outputs": [
        {
          "output_type": "stream",
          "text": [
            "Training of LSTM model\n",
            "Epoch 1---Step: 200/957--- Average Loss for Epoch: 0.010106340588536114\n",
            "Epoch 1---Step: 400/957--- Average Loss for Epoch: 0.005632541824888903\n",
            "Epoch 1---Step: 600/957--- Average Loss for Epoch: 0.003969829769678957\n",
            "Epoch 1---Step: 800/957--- Average Loss for Epoch: 0.0030907433351967484\n",
            "Epoch 1/5, Total Loss: 0.0026376759473761384\n",
            "Epoch 2---Step: 200/957--- Average Loss for Epoch: 0.00028307295469858217\n",
            "Epoch 2---Step: 400/957--- Average Loss for Epoch: 0.00025835778174950976\n",
            "Epoch 2---Step: 600/957--- Average Loss for Epoch: 0.00024469337511012177\n",
            "Epoch 2---Step: 800/957--- Average Loss for Epoch: 0.00023240377367983456\n",
            "Epoch 2/5, Total Loss: 0.0002243095532682741\n",
            "Epoch 3---Step: 200/957--- Average Loss for Epoch: 0.00017906698791193777\n",
            "Epoch 3---Step: 400/957--- Average Loss for Epoch: 0.00017485753938672132\n",
            "Epoch 3---Step: 600/957--- Average Loss for Epoch: 0.00017055375114675067\n",
            "Epoch 3---Step: 800/957--- Average Loss for Epoch: 0.00016609126722869405\n",
            "Epoch 3/5, Total Loss: 0.00016450038603053242\n",
            "Epoch 4---Step: 200/957--- Average Loss for Epoch: 0.0001453387508445303\n",
            "Epoch 4---Step: 400/957--- Average Loss for Epoch: 0.00014141711855700123\n",
            "Epoch 4---Step: 600/957--- Average Loss for Epoch: 0.00014040494423776787\n",
            "Epoch 4---Step: 800/957--- Average Loss for Epoch: 0.00013710806568269617\n",
            "Epoch 4/5, Total Loss: 0.00013625491740002735\n",
            "Epoch 5---Step: 200/957--- Average Loss for Epoch: 0.00012584852651343682\n",
            "Epoch 5---Step: 400/957--- Average Loss for Epoch: 0.00012272813331946962\n",
            "Epoch 5---Step: 600/957--- Average Loss for Epoch: 0.00012102143169613555\n",
            "Epoch 5---Step: 800/957--- Average Loss for Epoch: 0.00012151730457844678\n",
            "Epoch 5/5, Total Loss: 0.00012053685515093284\n"
          ],
          "name": "stdout"
        }
      ]
    },
    {
      "cell_type": "code",
      "metadata": {
        "colab": {
          "base_uri": "https://localhost:8080/"
        },
        "id": "QF4KMj83oP9l",
        "outputId": "8a2c06e5-6e38-405f-c683-4e5e6f4a13d0"
      },
      "source": [
        "gru_outputs, targets, gru_sMAPE = evaluate(gru_model, test_x, test_y, label_scalers)"
      ],
      "execution_count": null,
      "outputs": [
        {
          "output_type": "stream",
          "text": [
            "sMAPE: 0.27756364212935497%\n"
          ],
          "name": "stdout"
        }
      ]
    },
    {
      "cell_type": "code",
      "metadata": {
        "colab": {
          "base_uri": "https://localhost:8080/"
        },
        "id": "wxU8LhxVoSO4",
        "outputId": "e4c5745c-4727-42c6-ff83-80e5529d9d97"
      },
      "source": [
        "lstm_outputs, targets, lstm_sMAPE = evaluate(lstm_model, test_x, test_y, label_scalers)"
      ],
      "execution_count": null,
      "outputs": [
        {
          "output_type": "stream",
          "text": [
            "sMAPE: 0.24942247827065064%\n"
          ],
          "name": "stdout"
        }
      ]
    },
    {
      "cell_type": "code",
      "metadata": {
        "id": "85tpkx9rAr6F"
      },
      "source": [
        ""
      ],
      "execution_count": null,
      "outputs": []
    }
  ]
}